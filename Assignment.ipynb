{
 "cells": [
  {
   "cell_type": "markdown",
   "metadata": {},
   "source": [
    "<center>\n",
    "    <img src=\"https://s3-api.us-geo.objectstorage.softlayer.net/cf-courses-data/CognitiveClass/Logos/organization_logo/organization_logo.png\" width=\"300\" alt=\"cognitiveclass.ai logo\"  />\n",
    "</center>\n"
   ]
  },
  {
   "cell_type": "markdown",
   "metadata": {},
   "source": [
    "# My Jupyter Notebook on IBM Watson Studio"
   ]
  },
  {
   "cell_type": "markdown",
   "metadata": {},
   "source": [
    "__Vipin kumar yadav__\n",
    "__Student__"
   ]
  },
  {
   "cell_type": "markdown",
   "metadata": {},
   "source": [
    "_I am interested in data science because i would love to contribute towards Automation ,artificial intelligence and quality healthcare in future ._"
   ]
  },
  {
   "cell_type": "markdown",
   "metadata": {},
   "source": [
    "### my code will print \"hello world\""
   ]
  },
  {
   "cell_type": "code",
   "execution_count": 1,
   "metadata": {},
   "outputs": [
    {
     "name": "stdout",
     "output_type": "stream",
     "text": [
      "hello world\n"
     ]
    }
   ],
   "source": [
    "print(\"hello world\")"
   ]
  },
  {
   "cell_type": "markdown",
   "metadata": {},
   "source": [
    "<ol>\n",
    "    <li>Data science</li>\n",
    "    <li>Artificial intelligence</li>\n",
    "    <li>Machine learning</li>\n",
    "</ol>\n",
    "    \n",
    " ---\n",
    " ---\n",
    " \n",
    " -Data science\n",
    " -Artificial intelligence\n",
    " -Machine learning\n",
    " \n",
    " <table style = \"width:20%>\n",
    "    <tr>\n",
    "    <th><Name></th>\n",
    "    <th><Address></th>\n",
    "    <th><Mobile></th>\n",
    "    </tr>\n",
    "    \n",
    "    <tr>\n",
    "    <td><Vipin></td>\n",
    "    <td><Lucknow></td>\n",
    "    <td><734568764567></td>\n",
    "    </tr>\n",
    " "
   ]
  },
  {
   "cell_type": "markdown",
   "metadata": {},
   "source": [
    "- Data science\n",
    "- Artificial intelligence\n",
    "- Machine learning"
   ]
  },
  {
   "cell_type": "markdown",
   "metadata": {},
   "source": [
    "| NAME    |    ADDRESS   |   MOBILE    |\n",
    "| :- | -: | :-: |\n",
    "| VIPIN  | Lucknow | 735502666|"
   ]
  },
  {
   "cell_type": "markdown",
   "metadata": {},
   "source": [
    "|num|num2|num3|\n",
    "| -: | -: | :-: |\n",
    "|1 |2|3"
   ]
  },
  {
   "cell_type": "code",
   "execution_count": null,
   "metadata": {},
   "outputs": [],
   "source": []
  }
 ],
 "metadata": {
  "kernelspec": {
   "display_name": "Python",
   "language": "python",
   "name": "conda-env-python-py"
  },
  "language_info": {
   "codemirror_mode": {
    "name": "ipython",
    "version": 3
   },
   "file_extension": ".py",
   "mimetype": "text/x-python",
   "name": "python",
   "nbconvert_exporter": "python",
   "pygments_lexer": "ipython3",
   "version": "3.7.12"
  }
 },
 "nbformat": 4,
 "nbformat_minor": 4
}
